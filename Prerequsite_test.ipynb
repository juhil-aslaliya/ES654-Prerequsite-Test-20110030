{
  "nbformat": 4,
  "nbformat_minor": 0,
  "metadata": {
    "colab": {
      "provenance": []
    },
    "kernelspec": {
      "name": "python3",
      "display_name": "Python 3"
    },
    "language_info": {
      "name": "python"
    }
  },
  "cells": [
    {
      "cell_type": "markdown",
      "source": [
        "<h1> Question 1 </h1>\n",
        "\n",
        "The first matrix is of size $n\\times k$, and the second matrix is of the size $k\\times m$.\n",
        "\n",
        "The resultant matrix would be of the size $n\\times m$.\n",
        "\n",
        "Thus, we would have to calculate $nm$ entries in total.\n",
        "\n",
        "Now, for multiplication, each entry in the resultant matrix would be a sum of $k$ different pairs that are multiplications of two numbers, thus in total $k-1$ additions per entry and $k$ multiplications per entry.\n",
        "\n",
        "So, there will be in total $nkm$ multiplications and $n(k-1)m$ additions in performing the matrix multiplication."
      ],
      "metadata": {
        "id": "dKUOUz-G0YRu"
      }
    },
    {
      "cell_type": "markdown",
      "source": [
        "<h1> Question 2 </h1>"
      ],
      "metadata": {
        "id": "PKRJNqHx2KTq"
      }
    },
    {
      "cell_type": "code",
      "source": [
        "# List of lists method\n",
        "\n",
        "import numpy as np\n",
        "import time\n",
        "\n",
        "n = 10\n",
        "k = 15\n",
        "m = 20\n",
        "\n",
        "np.random.seed(0)\n",
        "m1 = np.random.randint(low = 1, high = 100, size=(n, k))\n",
        "np.random.seed(1)\n",
        "m2 = np.random.randint(low = 1, high = 100, size=(k, m))\n",
        "m3 = np.zeros((n, m))\n",
        "tl = np.zeros(1000)\n",
        "for t in range(1000):\n",
        "  st = time.perf_counter()\n",
        "  for i in range(n):\n",
        "    for j in range(m):\n",
        "      for l in range(k):\n",
        "        m3[i][j] += m1[i][l]*m2[l][j]\n",
        "  en = time.perf_counter()\n",
        "  tl[t] = en-st\n",
        "\n",
        "print(\"Average time taken by list of lists method =\", np.mean(tl))\n",
        "print(\"Standard deviation =\", np.std(tl))\n",
        "\n",
        "#numpy inbuilt\n",
        "for t in range(1000):\n",
        "  st = time.perf_counter()\n",
        "  m3 = np.matmul(m1, m2)\n",
        "  en = time.perf_counter()\n",
        "  tl[t] = en-st\n",
        "\n",
        "print(\"Time taken by numpy inbuilt method =\", np.mean(tl))\n",
        "print(\"Standard deviation =\", np.std(tl))"
      ],
      "metadata": {
        "colab": {
          "base_uri": "https://localhost:8080/"
        },
        "id": "DI-9WKzx2UCa",
        "outputId": "790136c0-1d05-406f-8152-77db3dc17e89"
      },
      "execution_count": 9,
      "outputs": [
        {
          "output_type": "stream",
          "name": "stdout",
          "text": [
            "Average time taken by list of lists method = 0.0049130869880052615\n",
            "Standard deviation = 0.0019622075743174696\n",
            "Time taken by numpy inbuilt method = 4.267318999382041e-06\n",
            "Standard deviation = 9.225653910859308e-07\n"
          ]
        }
      ]
    },
    {
      "cell_type": "markdown",
      "source": [
        "It is observed that the numpy inbuilt is faster than the list-of-lists method, it might be explained by the fact that the inbuilt method would be as optimised as possible (both humanly and/or by the processor), while the list-of-lists method is just a primary implementation of the conventional school-taught algorithm, which is slow, but easy to learn and implement."
      ],
      "metadata": {
        "id": "Lj4-x1lm54Yd"
      }
    },
    {
      "cell_type": "markdown",
      "source": [
        "<h1> Question 3 </h1>\n",
        "\n",
        "The one-pass-per-element method has to run for $n//2+1$ time, as the median is the $n//2+1$th highest element of the list. Each time we pass the array of length $n-k$ if we pop the highest element each time, so for large $n$, $n//2+1$ can be roughly equal to $n/2$. We run the maximum pass algorithm $n/2$ times, each time reducing the list length by $1$. So, the total passes are $n + n-1 + n-2 + ... + n-n/2 = n^2/2 - (n/2)(n/2 - 1)/2 = n^2/2 - n^2/8 - n/4 = O(n^2)$\n",
        "\n",
        "A better method would be using the inbuilt sort() function of python, which is $O(n\\cdot logn)$ (or so as told on GeeksforGeeks and StackOverFlow), then return the middle element of the array."
      ],
      "metadata": {
        "id": "D2Ky3-sH7rmj"
      }
    },
    {
      "cell_type": "code",
      "source": [
        "# The one-pass-per-element method\n",
        "\n",
        "def find_median(l):\n",
        "  n = len(l)\n",
        "  median = 0\n",
        "  if n%2 == 1:\n",
        "    for i in range(n//2 + 1):\n",
        "      maxidx = 0\n",
        "      for j in range(n-i):\n",
        "        if l[maxidx] <= l[j]:\n",
        "          maxidx = j\n",
        "      median = l.pop(maxidx)\n",
        "  else:\n",
        "    median1 = 0\n",
        "    median2 = 0\n",
        "    for i in range(n//2 + 1):\n",
        "      maxidx = 0\n",
        "      for j in range(n-i):\n",
        "        if l[maxidx] <= l[j]:\n",
        "          maxidx = j\n",
        "      if i == n//2 - 1:\n",
        "        median1 = l.pop(maxidx)\n",
        "      else:\n",
        "        median2 = l.pop(maxidx)\n",
        "    median = (median1+median2)/2\n",
        "  return median\n",
        "\n",
        "tlist = np.zeros(1000)\n",
        "np.random.seed(2)\n",
        "\n",
        "l1 = np.random.randint(low = 1, high = 10000, size = (1000,))\n",
        "for i in range(1000):\n",
        "  l2 = list(l1)\n",
        "  t1 = time.perf_counter()\n",
        "  med = find_median(l2)\n",
        "  t2 = time.perf_counter()\n",
        "  tlist[i] = t2-t1\n",
        "print(\"Average time of one-pass-per-element method =\", np.mean(tlist))\n",
        "print(\"Standard Deviation =\", np.std(tlist))\n",
        "\n",
        "# Suggested better method\n",
        "\n",
        "l3 = l1.copy()\n",
        "for i in range(1000):\n",
        "  t1 = time.perf_counter()\n",
        "  l3.sort()\n",
        "  med2 = (l3[499]+l3[500])/2\n",
        "  t2 = time.perf_counter()\n",
        "  tlist[i] = t2-t1\n",
        "print(\"Average time of suggested better method =\", np.mean(tlist))\n",
        "print(\"Standard Deviation =\", np.std(tlist))\n",
        "\n",
        "# Numpy inbuilt\n",
        "\n",
        "for i in range(1000):\n",
        "  t1 = time.perf_counter()\n",
        "  med3 = np.median(l1)\n",
        "  t2 = time.perf_counter()\n",
        "  tlist[i] = t2-t1\n",
        "print(\"Average time of inbuilt method =\", np.mean(tlist))\n",
        "print(\"Standard Deviation =\", np.std(tlist))"
      ],
      "metadata": {
        "colab": {
          "base_uri": "https://localhost:8080/"
        },
        "id": "46j_9Lnh53pe",
        "outputId": "c7698d01-3e77-4c4d-8d93-d7d0169c72cf"
      },
      "execution_count": 28,
      "outputs": [
        {
          "output_type": "stream",
          "name": "stdout",
          "text": [
            "Average time of one-pass-per-element method = 0.03645228615401266\n",
            "Standard Deviation = 0.010801828359411762\n",
            "Average time of suggested better method = 6.640932976551994e-06\n",
            "Standard Deviation = 1.0699218715089924e-05\n",
            "Average time of inbuilt method = 2.6438537007379638e-05\n",
            "Standard Deviation = 6.281458275312372e-05\n"
          ]
        }
      ]
    },
    {
      "cell_type": "markdown",
      "source": [
        "<h1> Question 4 </h1>\n",
        "\n",
        "$f(x) = x^2y+y^3sin(x)$\n",
        "\n",
        "$\\frac{∂f}{∂x} = 2xy+y^3cos(x)$\n",
        "\n",
        "$\\frac{∂f}{∂y} = x^2+3y^2sin(x)$"
      ],
      "metadata": {
        "id": "NZ4UMlW_Qjqc"
      }
    },
    {
      "cell_type": "markdown",
      "source": [
        "<h1> Question 5 </h1>"
      ],
      "metadata": {
        "id": "WQT5Y14vSOiR"
      }
    },
    {
      "cell_type": "code",
      "source": [
        "import jax\n",
        "jnp = jax.numpy\n",
        "from jax.numpy import sin, cos\n",
        "\n",
        "def f(vars):\n",
        "  x = vars[0]\n",
        "  y = vars[1]\n",
        "  return x**2*y + y**3*sin(x)\n",
        "\n",
        "coords = jnp.array([5., 6.])\n",
        "\n",
        "# Analytical Gradient\n",
        "\n",
        "def analytical(vars):\n",
        "  x = vars[0]\n",
        "  y = vars[1]\n",
        "  grad = [2*x*y + y**3*cos(x), x**2 + 3*y**2*sin(x)]\n",
        "  return jnp.array(grad)\n",
        "\n",
        "print(analytical(coords))\n",
        "\n",
        "# JAX grad() function\n",
        "\n",
        "jaxgrad = jax.grad(f)\n",
        "print(jaxgrad(coords))"
      ],
      "metadata": {
        "colab": {
          "base_uri": "https://localhost:8080/"
        },
        "id": "Vzc4jNllR_sD",
        "outputId": "4733d8eb-882a-49f1-acf3-62c4e48e0f32"
      },
      "execution_count": 32,
      "outputs": [
        {
          "output_type": "stream",
          "name": "stdout",
          "text": [
            "[121.271034 -78.56383 ]\n",
            "[121.271034 -78.56383 ]\n"
          ]
        }
      ]
    },
    {
      "cell_type": "markdown",
      "source": [
        "<h1> Question 6 </h1>"
      ],
      "metadata": {
        "id": "Pt8n9IwrUhP9"
      }
    },
    {
      "cell_type": "code",
      "source": [
        "# Gradient using sympy\n",
        "\n",
        "import sympy\n",
        "x, y = sympy.symbols('x y')\n",
        "f = x**2*y + y**3*sympy.sin(x)\n",
        "sympy.diff(f, x), sympy.diff(f, y)"
      ],
      "metadata": {
        "colab": {
          "base_uri": "https://localhost:8080/"
        },
        "id": "Oy6yQqIPUmUp",
        "outputId": "f88ecb84-72f4-49e7-efb3-96b44a8e9159"
      },
      "execution_count": 49,
      "outputs": [
        {
          "output_type": "execute_result",
          "data": {
            "text/plain": [
              "(2*x*y + y**3*cos(x), x**2 + 3*y**2*sin(x))"
            ]
          },
          "metadata": {},
          "execution_count": 49
        }
      ]
    },
    {
      "cell_type": "markdown",
      "source": [
        "<h1> Question 7 </h1>"
      ],
      "metadata": {
        "id": "8dZGcIx_YYD4"
      }
    },
    {
      "cell_type": "code",
      "source": [
        "# Dictionary\n",
        "\n",
        "datadict = {\n",
        "    '2022': {\n",
        "        'Branch 1': {\n",
        "            'Student 1': {\n",
        "                'Roll no': 1,\n",
        "                'Name': 'A',\n",
        "                'Marks': {\n",
        "                    'Maths': 100,\n",
        "                    'English': 70\n",
        "                }\n",
        "            }\n",
        "        },\n",
        "        'Branch 2': {\n",
        "            'Student 2': {\n",
        "                'Roll no': 2,\n",
        "                'Name': 'B',\n",
        "                'Marks': {\n",
        "                    'Maths': 90,\n",
        "                    'English': 72\n",
        "                }\n",
        "            } \n",
        "        }\n",
        "    },\n",
        "    '2023': {\n",
        "        'Branch 1': {\n",
        "            'Student 3': {\n",
        "                'Roll no': 3,\n",
        "                'Name': 'C',\n",
        "                'Marks': {\n",
        "                    'Maths': 80,\n",
        "                    'English': 74\n",
        "                }\n",
        "            }\n",
        "        },\n",
        "        'Branch 2': {\n",
        "            'Student 4': {\n",
        "                'Roll no': 4,\n",
        "                'Name': 'D',\n",
        "                'Marks': {\n",
        "                    'Maths': 70,\n",
        "                    'English': 76\n",
        "                }\n",
        "            }\n",
        "        }\n",
        "    },\n",
        "    '2024': {\n",
        "        'Branch 1': {\n",
        "            'Student 5': {\n",
        "                'Roll no': 5,\n",
        "                'Name': 'E',\n",
        "                'Marks': {\n",
        "                    'Maths': 60,\n",
        "                    'English': 78\n",
        "                }\n",
        "            }\n",
        "        },\n",
        "        'Branch 2': {\n",
        "            'Student 6': {\n",
        "                'Roll no': 6,\n",
        "                'Name': 'F',\n",
        "                'Marks': {\n",
        "                    'Maths': 50,\n",
        "                    'English': 80\n",
        "                }\n",
        "            }\n",
        "        }\n",
        "    },\n",
        "    '2025': {\n",
        "        'Branch 1': {\n",
        "            'Student 7': {\n",
        "                'Roll no': 7,\n",
        "                'Name': 'G',\n",
        "                'Marks': {\n",
        "                    'Maths': 40,\n",
        "                    'English': 82\n",
        "                }\n",
        "            }\n",
        "        },\n",
        "        'Branch 2': {\n",
        "            'Student 8': {\n",
        "                'Roll no': 8,\n",
        "                'Name': 'H',\n",
        "                'Marks': {\n",
        "                    'Maths': 30,\n",
        "                    'English': 84\n",
        "                }\n",
        "            }\n",
        "        }\n",
        "    }\n",
        "}"
      ],
      "metadata": {
        "id": "zywwLhLKYVDQ"
      },
      "execution_count": 59,
      "outputs": []
    },
    {
      "cell_type": "markdown",
      "source": [
        "<h1> Question 8 </h1>"
      ],
      "metadata": {
        "id": "pYPZnJc-aFPl"
      }
    },
    {
      "cell_type": "code",
      "source": [
        "# The above data using classes\n",
        "\n",
        "class Database:\n",
        "  def __init__(self, ylist):\n",
        "    self.years = ylist\n",
        "\n",
        "class Year:\n",
        "  def __init__(self, y, blist):\n",
        "    self.year = y\n",
        "    self.branches = blist\n",
        "\n",
        "class Branch:\n",
        "  def __init__(self, b, slist):\n",
        "    self.branch = b\n",
        "    self.students = slist\n",
        "\n",
        "class Student:\n",
        "  def __init__(self, s, n, r, m):\n",
        "    self.student = s\n",
        "    self.name = n\n",
        "    self.roll_no = r\n",
        "    self.marks = m\n",
        "\n",
        "ylist = []\n",
        "for y in datadict:\n",
        "  blist = []\n",
        "  for b in datadict[y]:\n",
        "    slist = []\n",
        "    for s in datadict[y][b]:\n",
        "      slist.append(Student(s, datadict[y][b][s]['Name'], datadict[y][b][s]['Roll no'], datadict[y][b][s]['Marks']))\n",
        "    blist.append(slist)\n",
        "  ylist.append(blist)\n",
        "data = Database(ylist)\n",
        "\n",
        "\n",
        "data.years[0][0][0].name"
      ],
      "metadata": {
        "colab": {
          "base_uri": "https://localhost:8080/",
          "height": 36
        },
        "id": "sjnFU4Wvah1A",
        "outputId": "61b7f60c-4ebe-4601-f9a0-570476f93ac5"
      },
      "execution_count": 76,
      "outputs": [
        {
          "output_type": "execute_result",
          "data": {
            "text/plain": [
              "'A'"
            ],
            "application/vnd.google.colaboratory.intrinsic+json": {
              "type": "string"
            }
          },
          "metadata": {},
          "execution_count": 76
        }
      ]
    },
    {
      "cell_type": "markdown",
      "source": [
        "<h1> Question 9 </h1>"
      ],
      "metadata": {
        "id": "37CLlR1DiTms"
      }
    },
    {
      "cell_type": "code",
      "source": [
        "# Plots!!!\n",
        "\n",
        "import matplotlib.pyplot as plt\n",
        "import numpy as np\n",
        "from numpy import sin, log, exp\n",
        "\n",
        "x = np.linspace(0.5, 100, 200)\n",
        "\n",
        "y1 = x\n",
        "y2 = x**2\n",
        "y3 = x**3/100\n",
        "y4 = sin(x)\n",
        "y5 = sin(x)/x\n",
        "y6 = log(x)\n",
        "y7 = exp(x)\n",
        "\n",
        "f = plt.figure()\n",
        "f.set_figwidth(15)\n",
        "f.set_figheight(15)\n",
        "\n",
        "plt.subplot(3, 3, 1)\n",
        "plt.title('y = x')\n",
        "plt.plot(x, y1)\n",
        "\n",
        "plt.subplot(3, 3, 2)\n",
        "plt.title('y = x**2')\n",
        "plt.plot(x, y2)\n",
        "\n",
        "plt.subplot(3, 3, 3)\n",
        "plt.title('y = x**3/100')\n",
        "plt.plot(x, y3)\n",
        "\n",
        "plt.subplot(3, 3, 4)\n",
        "plt.title('y = sin(x)')\n",
        "plt.plot(x, y4)\n",
        "\n",
        "plt.subplot(3, 3, 5)\n",
        "plt.title('y = sin(x)/x')\n",
        "plt.plot(x, y5)\n",
        "\n",
        "plt.subplot(3, 3, 6)\n",
        "plt.title('y = log(x)')\n",
        "plt.plot(x, y6)\n",
        "\n",
        "plt.subplot(3, 3, 8)\n",
        "plt.title('y = exp(x)')\n",
        "plt.plot(x, y7)"
      ],
      "metadata": {
        "id": "VhKZpyMXiZL2",
        "outputId": "800da816-4d3a-4736-cf4c-ba2bed9c17ca",
        "colab": {
          "base_uri": "https://localhost:8080/",
          "height": 897
        }
      },
      "execution_count": 90,
      "outputs": [
        {
          "output_type": "execute_result",
          "data": {
            "text/plain": [
              "[<matplotlib.lines.Line2D at 0x7fda73fc6580>]"
            ]
          },
          "metadata": {},
          "execution_count": 90
        },
        {
          "output_type": "display_data",
          "data": {
            "text/plain": [
              "<Figure size 1080x1080 with 7 Axes>"
            ],
            "image/png": "[encoded data removed]"
          },
          "metadata": {
            "needs_background": "light"
          }
        }
      ]
    },
    {
      "cell_type": "markdown",
      "source": [
        "<h1> Question 10 </h1>"
      ],
      "metadata": {
        "id": "Dif9Ba-wmaMw"
      }
    },
    {
      "cell_type": "code",
      "source": [
        "# Dataframe from array\n",
        "\n",
        "import pandas as pd\n",
        "\n",
        "np.random.seed(3)\n",
        "m = np.random.uniform(low=1, high=2, size=(20, 5))\n",
        "df = pd.DataFrame(m)\n",
        "df.columns = ['a', 'b', 'c', 'd', 'e']\n",
        "print(df.describe())\n",
        "print()\n",
        "print(\"Column with the highest standard deviation = a\")\n",
        "print('---------------------------------------------------')\n",
        "\n",
        "df['mean'] = (df.a + df.b + df.c + df.d + df.e)/5.\n",
        "print(df['mean'] == np.min(df['mean']))\n",
        "print()\n",
        "print(\"Row with the lowest mean = 15\")\n",
        "print('---------------------------------------------------')\n",
        "del df['mean']"
      ],
      "metadata": {
        "id": "WeBxFIjbme8h",
        "outputId": "b3a84b01-af59-4361-e882-9f6fa48b288d",
        "colab": {
          "base_uri": "https://localhost:8080/"
        }
      },
      "execution_count": 108,
      "outputs": [
        {
          "output_type": "stream",
          "name": "stdout",
          "text": [
            "               a          b          c          d          e\n",
            "count  20.000000  20.000000  20.000000  20.000000  20.000000\n",
            "mean    1.496116   1.471558   1.440396   1.477403   1.511247\n",
            "std     0.304031   0.246496   0.230858   0.296059   0.235593\n",
            "min     1.029876   1.023982   1.187815   1.051467   1.100104\n",
            "25%     1.263996   1.280117   1.258584   1.273296   1.364947\n",
            "50%     1.493082   1.569765   1.352895   1.431530   1.470636\n",
            "75%     1.739818   1.669197   1.581427   1.704508   1.677594\n",
            "max     1.975995   1.708148   1.902834   1.971603   1.936384\n",
            "\n",
            "Column with the highest standard deviation = a\n",
            "---------------------------------------------------\n",
            "0     False\n",
            "1     False\n",
            "2     False\n",
            "3     False\n",
            "4     False\n",
            "5     False\n",
            "6     False\n",
            "7     False\n",
            "8     False\n",
            "9     False\n",
            "10    False\n",
            "11    False\n",
            "12    False\n",
            "13    False\n",
            "14    False\n",
            "15     True\n",
            "16    False\n",
            "17    False\n",
            "18    False\n",
            "19    False\n",
            "Name: mean, dtype: bool\n",
            "\n",
            "Row with the lowest mean = 15\n",
            "---------------------------------------------------\n"
          ]
        }
      ]
    },
    {
      "cell_type": "markdown",
      "source": [
        "<h1> Question 11 </h1>"
      ],
      "metadata": {
        "id": "6i2acgPHoURc"
      }
    },
    {
      "cell_type": "code",
      "source": [
        "# The f column\n",
        "\n",
        "df['f'] = df.a + df.b + df.c + df.d + df.e\n",
        "\n",
        "# The g column\n",
        "\n",
        "def lt8(x):\n",
        "  if x < 8:\n",
        "    return 'LT8'\n",
        "  else:\n",
        "    return 'GT8'\n",
        "\n",
        "df['g'] = df.apply(lambda r: lt8(r['f']), axis = 1)\n",
        "\n",
        "# STD's of f grouped by value of g\n",
        "\n",
        "lstd = np.std(df[df['g'] == 'LT8']['f'])\n",
        "gstd = np.std(df[df['g'] == 'GT8']['f'])\n",
        "print(\"STD of values smaller than 8 =\", lstd)\n",
        "print(\"STD of values greater than 8 =\", gstd)"
      ],
      "metadata": {
        "id": "QKFZntMwqd-O",
        "outputId": "891b390e-77c9-4d0d-8a58-e10b9b3b3f80",
        "colab": {
          "base_uri": "https://localhost:8080/"
        }
      },
      "execution_count": 114,
      "outputs": [
        {
          "output_type": "stream",
          "name": "stdout",
          "text": [
            "STD of values smaller than 8 = 0.5544011248693514\n",
            "STD of values greater than 8 = 0.22952530573862634\n"
          ]
        }
      ]
    },
    {
      "cell_type": "markdown",
      "source": [
        "<h1> Question 12 </h1>"
      ],
      "metadata": {
        "id": "aLTW4EsEt0PD"
      }
    },
    {
      "cell_type": "code",
      "source": [
        "# If a scalar and an array are operated, the operation is done as if the scalar\n",
        "# is an array of the same shape as the other array, and is filled with the same\n",
        "# value.\n",
        "\n",
        "a = 1\n",
        "b = np.array([[2, 3], [4, 5], [6, 7]])\n",
        "print(a+b)\n",
        "print('-------------------------------------------------------------------------')\n",
        "\n",
        "# If a vector is operated with another array, the vector stretches in the \n",
        "# direction of the other axis.\n",
        "\n",
        "a = np.array([1, 2, 3])\n",
        "b = np.array([[1, 2, 3], [4, 5, 6]])\n",
        "print(a+b)\n",
        "print('-------------------------------------------------------------------------')\n",
        "\n",
        "# If a vertical array is operated with an horizontal array or vice versa, both \n",
        "# of then stretch in the axis they are single sized and complete the operation.\n",
        "\n",
        "a = np.array([1, 2, 3])\n",
        "b = np.array([[1], [2], [3], [4]])\n",
        "print(a+b)"
      ],
      "metadata": {
        "id": "hogYllPNtzEU",
        "outputId": "bce28900-8006-4b85-bc23-e3fbc9666196",
        "colab": {
          "base_uri": "https://localhost:8080/"
        }
      },
      "execution_count": 126,
      "outputs": [
        {
          "output_type": "stream",
          "name": "stdout",
          "text": [
            "[[3 4]\n",
            " [5 6]\n",
            " [7 8]]\n",
            "-------------------------------------------------------------------------\n",
            "[[2 4 6]\n",
            " [5 7 9]]\n",
            "-------------------------------------------------------------------------\n",
            "[[2 3 4]\n",
            " [3 4 5]\n",
            " [4 5 6]\n",
            " [5 6 7]]\n"
          ]
        }
      ]
    },
    {
      "cell_type": "markdown",
      "source": [
        "<h1> Question 13 </h1>"
      ],
      "metadata": {
        "id": "5XGT93tIx8aM"
      }
    },
    {
      "cell_type": "code",
      "source": [
        "# Defined argmin\n",
        "def myargmin(arr):\n",
        "  shp = arr.shape\n",
        "  elem = np.product(shp)\n",
        "  newarr = np.reshape(arr, (elem,))\n",
        "  midx = 0\n",
        "  for i in range(elem):\n",
        "    if newarr[i] < newarr[midx]:\n",
        "      midx = i\n",
        "  return midx\n",
        "\n",
        "a = np.array([[[1, 2, 3], [4, 0, 7], [8, 9, 10]], [[3, 4, 5], [7, 8, 9], [4, -1, 5]]])\n",
        "print(\"Inbuit argmin gives\", np.argmin(a))\n",
        "print(\"Function myargmin gives\", myargmin(a))\n"
      ],
      "metadata": {
        "id": "7i1lsT-IyqOq",
        "outputId": "bed288ec-ea8b-4856-b6fe-58a8d66794d4",
        "colab": {
          "base_uri": "https://localhost:8080/"
        }
      },
      "execution_count": 139,
      "outputs": [
        {
          "output_type": "stream",
          "name": "stdout",
          "text": [
            "Inbuit argmin gives 16\n",
            "Function myargmin gives 16\n"
          ]
        }
      ]
    }
  ]
}